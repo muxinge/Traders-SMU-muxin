{
 "cells": [
  {
   "cell_type": "markdown",
   "id": "fb9eff36-7e33-4598-8685-78489fbd5ccf",
   "metadata": {},
   "source": [
    "# Traders@SMU L1 Week 2 Python Homework "
   ]
  },
  {
   "cell_type": "markdown",
   "id": "2d19ddb5-c234-4ce5-8377-7b169e1d05d4",
   "metadata": {},
   "source": [
    "### Exercise 1: Data Collection and Basic Operations\n",
    "### Topics Used: For Loops, Indexing, Lists, Operations, Variables"
   ]
  },
  {
   "cell_type": "markdown",
   "id": "b0b81eed-377b-46da-814f-10f0292dc64c",
   "metadata": {},
   "source": [
    "#### 1. You are given a list of daily closing prices for a stock over 5 days: [100.5, 102.3, 99.8, 103.7, 101.2].\n",
    "\n",
    "#### 2. Store this list in a variable called stock_prices.\n",
    "#### 3. Calculate the daily returns for each day (return = (current_price - previous_price) / previous_price) and store them in a new list called daily_returns.\n",
    "#### 4. Print the daily_returns list."
   ]
  },
  {
   "cell_type": "code",
   "execution_count": 36,
   "id": "dd1b8bf2-51a2-4bba-9dc9-fac019889457",
   "metadata": {},
   "outputs": [
    {
     "name": "stdout",
     "output_type": "stream",
     "text": [
      "[0.017910447761194003, -0.024437927663734114, 0.03907815631262531, -0.024108003857280617]\n"
     ]
    }
   ],
   "source": [
    "# Submit Code Here \n",
    "stock_prices = [100.5, 102.3, 99.8, 103.7, 101.2]\n",
    "daily_returns = []\n",
    "n = 1\n",
    "for n in range(1, len(stock_prices)):\n",
    "    \n",
    "    daily_returns.append((stock_prices[n] - stock_prices[n - 1]) / stock_prices[n - 1])\n",
    "print(daily_returns)\n"
   ]
  },
  {
   "cell_type": "markdown",
   "id": "c8175f9d-6783-4290-9b38-caf6bb2c360a",
   "metadata": {},
   "source": [
    "### Exercise 2: Boolean Logic and Price Threshold Check\n",
    "\n",
    "#### Using stock_prices from Exercise 1, create price_checks with True if the price (from second day) is above $101.50, False otherwise.\n",
    "#### Print price_checks. Should output a list of True/False Booleans"
   ]
  },
  {
   "cell_type": "code",
   "execution_count": 38,
   "id": "eae4d600-56b0-428d-8129-c406e5d76f01",
   "metadata": {},
   "outputs": [
    {
     "name": "stdout",
     "output_type": "stream",
     "text": [
      "[False, True, False, True, False]\n"
     ]
    }
   ],
   "source": [
    "# Submit Code Here \n",
    "price_checks = []\n",
    "for n in range(len(stock_prices)):\n",
    "    price_checks.append(stock_prices[n] > 101.5)\n",
    "print(price_checks)"
   ]
  },
  {
   "cell_type": "markdown",
   "id": "7da4549b-31e3-44bb-bb73-cd080fee5983",
   "metadata": {},
   "source": [
    "### Exercise 3: Loops and Trading Signals\n",
    "\n",
    "#### Using stock_prices, create signals (\"Buy\" if >2% increase, \"Sell\" if <-2% decrease, \"Hold\" otherwise).\n",
    "#### Break on \"Sell\".\n",
    "#### Print signals and break message."
   ]
  },
  {
   "cell_type": "code",
   "execution_count": 50,
   "id": "f4acd7d3-1c8f-4598-a148-665b870b8b62",
   "metadata": {},
   "outputs": [
    {
     "name": "stdout",
     "output_type": "stream",
     "text": [
      "['hold', 'sell, break']\n"
     ]
    }
   ],
   "source": [
    "# Submit Code Here \n",
    "signals = []\n",
    "for n in range(len(daily_returns)):\n",
    "    if daily_returns[n] > 0.02:\n",
    "        signals.append('buy')\n",
    "    elif daily_returns[n] < -0.02:\n",
    "        signals.append('sell, break')\n",
    "        break\n",
    "    else:\n",
    "        signals.append('hold')\n",
    "print(signals)"
   ]
  },
  {
   "cell_type": "markdown",
   "id": "baa5d0b9-78ba-4286-a678-dd0560511920",
   "metadata": {},
   "source": [
    "### Exercise 4: Functions Trading Strategy \n",
    "\n",
    "#### Create your own personal Trading Strategy using a function \n",
    "\n",
    "#### Only Requirements are to use at least 1 functions and use at least 3 technical/signal indicators\n",
    "\n",
    "#### Print the Results of your Function "
   ]
  },
  {
   "cell_type": "code",
   "execution_count": 54,
   "id": "8187fc9b-f9e2-4a05-9d08-6c581c709c9f",
   "metadata": {},
   "outputs": [
    {
     "name": "stdout",
     "output_type": "stream",
     "text": [
      "['buy', 'sell, break']\n"
     ]
    }
   ],
   "source": [
    "# Submit code Here\n",
    "signals = []\n",
    "def strategy(stock_prices, daily_returns):\n",
    "    for n in range(len(daily_returns)):\n",
    "        avg = 0\n",
    "        sum = 0\n",
    "        for i in range(0, n - 1):\n",
    "            \n",
    "            sum += daily_returns[i]\n",
    "        avg = sum / (n + 1)\n",
    "\n",
    "        if avg < daily_returns[n]:\n",
    "            signals.append('buy')\n",
    "        elif avg > daily_returns[n]:\n",
    "            signals.append('sell, break')\n",
    "            break\n",
    "        else:\n",
    "            signals.append('hold')\n",
    "    print(signals)\n",
    "strategy(stock_prices, daily_returns)"
   ]
  },
  {
   "cell_type": "markdown",
   "id": "4bc3cc32-8134-4131-9015-86736eaec0c0",
   "metadata": {},
   "source": [
    "### Final Challenge Exercise 5: Object-Oriented Programming - Advanced Trading Strategy Class\n",
    "\n",
    "#### Build an advanced TradingStrategy class to simulate a stock trading system with detailed tracking and reporting. Follow these steps:\n",
    "\n",
    "#### 1. Set up the class with:\n",
    "#### &nbsp;A name for the strategy.\n",
    "#### &nbsp;A list for stock prices.\n",
    "#### &nbsp;A list for trading signals.\n",
    "#### &nbsp;A list to record trades.\n",
    "#### &nbsp;Variables for cash (start with $10,000) and shares (start with 0).\n",
    "#### &nbsp;A fixed number of shares to trade each time (e.g., 10).\n",
    "#### 2. Create a method to add a new stock price to the class.\n",
    "#### 3. Create a method to generate trading signals:\n",
    "#### &nbsp;Compare each price to the previous one.\n",
    "#### &nbsp;Use a 2% increase for \"Buy,\" a 2% decrease for \"Sell,\" and anything else for \"Hold.\"\n",
    "#### 4. Create a method to execute trades based on signals:\n",
    "#### &nbsp;For \"Buy,\" purchase shares if cash allows, updating cash and shares.\n",
    "#### &nbsp;For \"Sell,\" sell all shares if any are owned, updating cash and shares.\n",
    "#### &nbsp;Record each trade as a tuple with price, action, and shares traded.\n",
    "#### 5. Create a method to calculate the total portfolio value using the latest price.\n",
    "#### 6. Create a method to provide a summary including:\n",
    "#### &nbsp;Strategy name, signals, trades, final cash, shares owned, and total portfolio value.\n",
    "#### 7. Test your class:\n",
    "#### &nbsp;Use the prices [100.5, 102.3, 99.8, 103.7, 101.2].\n",
    "#### &nbsp;Add each price, generate signals, execute trades, and print the summary.\n"
   ]
  },
  {
   "cell_type": "code",
   "execution_count": 21,
   "id": "20bfbf80-25f6-4352-897c-6565055eff22",
   "metadata": {},
   "outputs": [
    {
     "name": "stdout",
     "output_type": "stream",
     "text": [
      "[100.5, 102.3, 99.8, 103.7, 101.2]\n",
      "muxin's way Summary:\n",
      "Signals: ['hold', 'sell', 'buy', 'sell']\n",
      "Trades: [(99.8, 'sell', 0), (103.7, 'buy', 10), (101.2, 'sell', 10)]\n",
      "Final Cash: 9975.0\n",
      "Shares Owned: 0\n",
      "Total Portfolio Value: $9975.0\n"
     ]
    }
   ],
   "source": [
    "# Submit Code Here \n",
    "class TradingStrategy:\n",
    "    def __init__(self, name, cash = 10000, shares = 0, shares_per_trade = 10):\n",
    "        self.name = name\n",
    "        self.stock_prices = []\n",
    "        self.trading_signals = []\n",
    "        self.trade_history = []\n",
    "        self.cash = cash\n",
    "        self.shares = shares\n",
    "        self.shares_per_trade = 10\n",
    "        \n",
    "        \n",
    "    def add_stock (self, price):\n",
    "        self.stock_prices.append(price)\n",
    "\n",
    "    def generate_trading_signals(self, stock_prices):\n",
    "        for i in range(len(stock_prices)):\n",
    "            if i == 0:\n",
    "                continue\n",
    "            change = (stock_prices[i] - stock_prices[i - 1]) / stock_prices[i - 1]\n",
    "            \n",
    "            if change > 0.02:\n",
    "                self.trading_signals.append('buy')\n",
    "            elif change < -0.02:\n",
    "                self.trading_signals.append('sell')\n",
    "            else:\n",
    "                self.trading_signals.append('hold')\n",
    "                \n",
    "    def execute_trades(self):\n",
    "        for j in range (len(self.trading_signals)):\n",
    "            if self.trading_signals[j] == 'buy':\n",
    "                self.trade_history.append((self.stock_prices[j + 1], self.trading_signals[j], 10))\n",
    "                if self.cash > self.stock_prices[j + 1] * self.shares_per_trade:\n",
    "                    self.shares += 10\n",
    "                    # print(self.shares)\n",
    "                    self.cash -= self.shares_per_trade * self.stock_prices[j + 1]\n",
    "                \n",
    "            elif self.trading_signals[j] == 'sell':\n",
    "                # print(self.shares)\n",
    "                self.trade_history.append((self.stock_prices[j + 1], self.trading_signals[j], self.shares))\n",
    "                if self.shares > 0:\n",
    "                    self.cash += self.shares * self.stock_prices[j + 1]\n",
    "                    self.shares = 0\n",
    "                \n",
    "    def getValue(self):\n",
    "        if not self.stock_prices:\n",
    "            return self.cash\n",
    "        latest_price = self.stock_prices[-1]\n",
    "        return self.cash + (self.shares * latest_price)\n",
    "\n",
    "    def summary(self):\n",
    "        print(f\"{self.name} Summary:\")\n",
    "        print(f\"Signals: {self.trading_signals}\")\n",
    "        print(f\"Trades: {self.trade_history}\")\n",
    "        print(f\"Final Cash: {self.cash}\")\n",
    "        print(f\"Shares Owned: {self.shares}\")\n",
    "        print(f\"Total Portfolio Value: ${self.getValue()}\")\n",
    "            \n",
    "stock_prices = [100.5, 102.3, 99.8, 103.7, 101.2]\n",
    "strategy = TradingStrategy(name=\"muxin's way\")\n",
    "for price in stock_prices:\n",
    "    strategy.add_stock(price)\n",
    "print(stock_prices)\n",
    "strategy.generate_trading_signals(stock_prices)\n",
    "strategy.execute_trades()\n",
    "strategy.summary()   "
   ]
  },
  {
   "cell_type": "markdown",
   "id": "0a1b58a7-f803-4f21-b0c7-af49610fc819",
   "metadata": {},
   "source": [
    "### Expected Output Example\n",
    "\n",
    "#### Momentum Strategy Summary:\n",
    "#### Signals: ['Hold','Sell','Buy','Sell'] \n",
    "#### Trades: [(99.8, 'Sell', 0), (103.7, 'Buy', 10), (101.2, 'Sell', 10)]\n",
    "#### Final Cash: 9975.0\n",
    "#### Shares Owned: 0\n",
    "#### Total Portfolio Value: $9975.0"
   ]
  },
  {
   "cell_type": "code",
   "execution_count": null,
   "id": "f66426c1-2fd9-4f73-96b2-6582dd6ea3db",
   "metadata": {},
   "outputs": [],
   "source": []
  }
 ],
 "metadata": {
  "kernelspec": {
   "display_name": "Python [conda env:base] *",
   "language": "python",
   "name": "conda-base-py"
  },
  "language_info": {
   "codemirror_mode": {
    "name": "ipython",
    "version": 3
   },
   "file_extension": ".py",
   "mimetype": "text/x-python",
   "name": "python",
   "nbconvert_exporter": "python",
   "pygments_lexer": "ipython3",
   "version": "3.12.2"
  }
 },
 "nbformat": 4,
 "nbformat_minor": 5
}
